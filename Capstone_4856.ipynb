{
  "nbformat": 4,
  "nbformat_minor": 0,
  "metadata": {
    "colab": {
      "provenance": []
    },
    "kernelspec": {
      "name": "python3",
      "display_name": "Python 3"
    },
    "language_info": {
      "name": "python"
    }
  },
  "cells": [
    {
      "cell_type": "markdown",
      "source": [
        "Machine Learning (Deep) Application to Portfolio Allocation: Improving Classical Investment Strategies"
      ],
      "metadata": {
        "id": "s1cIkji8wllw"
      }
    },
    {
      "cell_type": "code",
      "execution_count": 14,
      "metadata": {
        "id": "fN06Di4Ct9z2"
      },
      "outputs": [],
      "source": [
        "#import\n",
        "import numpy as np\n",
        "import pandas as pd\n",
        "import yfinance as yf\n"
      ]
    },
    {
      "cell_type": "code",
      "source": [
        "#tickers\n",
        "#pulling data from 01/2010 to 12/23\n",
        "tickers = [\n",
        "    \"AAPL\",\n",
        "    \"MSFT\",\n",
        "    \"GOOG\",\n",
        "    \"AMZN\",\n",
        "    \"TSLA\",\n",
        "    \"TCEHY\",\n",
        "    \"NVDA\",\n",
        "    \"TSM\",\n",
        "    \"META\",\n",
        "    \"BABA\",\n",
        "    \"ASML\",\n",
        "    \"AVGO\",\n",
        "    \"ORCL\",\n",
        "    \"CSCO\",\n",
        "    \"ADBE\",\n",
        "    \"CRM\",\n",
        "    \"NFLX\",\n",
        "    \"TXN\",\n",
        "    \"QCOM\",\n",
        "    \"SAP\",\n",
        "]\n",
        "df = pd.DataFrame()\n",
        "for tick in tickers:\n",
        "    ydata = yf.download(tick, start=\"2010-01-01\", end=\"2023-12-31\")\n",
        "    data = ydata[\"Adj Close\"].pct_change()  # Daily returns\n",
        "    df[tick] = data[1:]\n",
        "df.index = pd.to_datetime(ydata.index[1:], format=\"%Y%m%d\")\n",
        "df = df.dropna(axis=1)"
      ],
      "metadata": {
        "colab": {
          "base_uri": "https://localhost:8080/"
        },
        "id": "oEJuJqwBwkpI",
        "outputId": "59eb338c-e166-41c6-c74f-f3b80a4398ba"
      },
      "execution_count": 16,
      "outputs": [
        {
          "output_type": "stream",
          "name": "stdout",
          "text": [
            "[*********************100%%**********************]  1 of 1 completed\n",
            "[*********************100%%**********************]  1 of 1 completed\n",
            "[*********************100%%**********************]  1 of 1 completed\n",
            "[*********************100%%**********************]  1 of 1 completed\n",
            "[*********************100%%**********************]  1 of 1 completed\n",
            "[*********************100%%**********************]  1 of 1 completed\n",
            "[*********************100%%**********************]  1 of 1 completed\n",
            "[*********************100%%**********************]  1 of 1 completed\n",
            "[*********************100%%**********************]  1 of 1 completed\n",
            "[*********************100%%**********************]  1 of 1 completed\n",
            "[*********************100%%**********************]  1 of 1 completed\n",
            "[*********************100%%**********************]  1 of 1 completed\n",
            "[*********************100%%**********************]  1 of 1 completed\n",
            "[*********************100%%**********************]  1 of 1 completed\n",
            "[*********************100%%**********************]  1 of 1 completed\n",
            "[*********************100%%**********************]  1 of 1 completed\n",
            "[*********************100%%**********************]  1 of 1 completed\n",
            "[*********************100%%**********************]  1 of 1 completed\n",
            "[*********************100%%**********************]  1 of 1 completed\n",
            "[*********************100%%**********************]  1 of 1 completed\n"
          ]
        }
      ]
    },
    {
      "cell_type": "code",
      "source": [
        "#splitting data into train and test\n",
        "train_size = int(0.8 * df.shape[0])\n",
        "Y_train = df[: train_size + 1].to_numpy()\n",
        "Y_test = df[train_size + 1 :].to_numpy()\n",
        "print(\"Beginning of training sample: \", df.index[0])\n",
        "print(\"End of training sample: \", df.index[train_size])\n",
        "print(\"End of test sample: \", df.index[-1])"
      ],
      "metadata": {
        "colab": {
          "base_uri": "https://localhost:8080/"
        },
        "id": "RAAEqOE8xB26",
        "outputId": "674747b5-2b98-4f9d-dbbb-45a6d4df422c"
      },
      "execution_count": 15,
      "outputs": [
        {
          "output_type": "stream",
          "name": "stdout",
          "text": [
            "Beginning of training sample:  2010-01-05 00:00:00\n",
            "End of training sample:  2021-03-15 00:00:00\n",
            "End of test sample:  2023-12-29 00:00:00\n"
          ]
        }
      ]
    },
    {
      "cell_type": "markdown",
      "source": [
        "Modern Portfolio Theory"
      ],
      "metadata": {
        "id": "6gr3WY7Z8bwC"
      }
    },
    {
      "cell_type": "code",
      "source": [
        "#MPT application general implementation"
      ],
      "metadata": {
        "id": "YJ0YymX68jul"
      },
      "execution_count": 17,
      "outputs": []
    },
    {
      "cell_type": "code",
      "source": [
        "#MPT using ML/DL models"
      ],
      "metadata": {
        "id": "bLibSJ_e82FU"
      },
      "execution_count": 18,
      "outputs": []
    },
    {
      "cell_type": "markdown",
      "source": [
        "Factor - based strategies"
      ],
      "metadata": {
        "id": "52pEXUGV8kGX"
      }
    },
    {
      "cell_type": "code",
      "source": [
        "#Factor based strategy application general implementation"
      ],
      "metadata": {
        "id": "K6o1xn0Q8nve"
      },
      "execution_count": 19,
      "outputs": []
    },
    {
      "cell_type": "code",
      "source": [
        "#Factor based strategy using ML/DL models"
      ],
      "metadata": {
        "id": "nunfKMvk86yf"
      },
      "execution_count": 20,
      "outputs": []
    },
    {
      "cell_type": "markdown",
      "source": [
        "Risk based strategies"
      ],
      "metadata": {
        "id": "HK1eJPF38o18"
      }
    },
    {
      "cell_type": "code",
      "source": [
        "#Risk based strategy application general implementation"
      ],
      "metadata": {
        "id": "LR9BGQSZ8rX8"
      },
      "execution_count": null,
      "outputs": []
    },
    {
      "cell_type": "code",
      "source": [
        "#Risk based strategy using ML/DL models"
      ],
      "metadata": {
        "id": "H7qPodnb87ld"
      },
      "execution_count": null,
      "outputs": []
    },
    {
      "cell_type": "markdown",
      "source": [
        "Combined strategies"
      ],
      "metadata": {
        "id": "8JuOrOJ69RMy"
      }
    },
    {
      "cell_type": "code",
      "source": [
        "#Combined strategy application general implementation"
      ],
      "metadata": {
        "id": "mVUyplrA9TY7"
      },
      "execution_count": 21,
      "outputs": []
    },
    {
      "cell_type": "code",
      "source": [
        "#Combined strategy using ML/DL models"
      ],
      "metadata": {
        "id": "vvlnXnZG9UBS"
      },
      "execution_count": 22,
      "outputs": []
    }
  ]
}